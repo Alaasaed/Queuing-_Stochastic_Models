{
 "cells": [
  {
   "cell_type": "code",
   "execution_count": null,
   "id": "3e987fb2",
   "metadata": {},
   "outputs": [],
   "source": []
  },
  {
   "cell_type": "code",
   "execution_count": null,
   "id": "e0fd2c28",
   "metadata": {},
   "outputs": [],
   "source": []
  },
  {
   "cell_type": "code",
   "execution_count": 79,
   "id": "2bea2285",
   "metadata": {},
   "outputs": [],
   "source": [
    "import math\n",
    "from scipy.special import comb\n",
    "def Model_Type(lam, mu, System_Capacity, Num_S, Population_z, Service_t, Arrival_t):\n",
    "    model_type = \"\"\n",
    "    p0 = None\n",
    "    pk = []\n",
    "    avg_num_in_sys = 0\n",
    "    avg_num_in_q = 0\n",
    "    avg_time_in_sys = 0\n",
    "    avg_time_in_queue = 0\n",
    "    rho = 0  # set a default value for rho\n",
    "\n",
    "    #-------------------------M/M/1 MODEL----------------------------------------\n",
    "\n",
    "    if System_Capacity == float('inf') and Num_S == 1 and Service_t == 'Exponential' and Arrival_t == 'poisson':\n",
    "        model_type = 'M/M/1'\n",
    "        rho = lam/mu\n",
    "        p0 = 1 - rho\n",
    "        pk = [(rho ** i) * p0 for i in range(Population_z)]\n",
    "        avg_num_in_sys = rho / (1 - rho)\n",
    "        avg_num_in_q  = rho/(mu-lam)\n",
    "        avg_time_in_sys = 1 / (mu - lam)\n",
    "        avg_time_in_queue = rho / (mu - lam)\n",
    "        return ('M/M/1', lam, mu,rho, p0, pk, avg_num_in_sys,avg_num_in_q, avg_time_in_sys, avg_time_in_queue)\n",
    "\n",
    "    #-------------------------M/M/k/1 MODEL----------------------------------------\n",
    "\n",
    "    if System_Capacity == Population_z and Num_S == 1 and Service_t == 'Exponential' and Arrival_t == 'poisson':\n",
    "        model_type = 'M/M/1/K'\n",
    "        rho = lam / (mu * Num_S)\n",
    "\n",
    "        # Calculate effective arrival rate and service rate\n",
    "        if rho == 1:\n",
    "            effective_arrival_rate = lam / Num_S\n",
    "            mu = mu / Num_S\n",
    "        else:\n",
    "            effective_arrival_rate = lam * (1 - rho)\n",
    "\n",
    "        # Calculate probability of zero customers in the system\n",
    "        p0 = 1 - rho\n",
    "        # Calculate average number of customers in the system\n",
    "        if rho == 1:\n",
    "            avg_num_in_q = Population_z ** 2 / (2 * (Population_z - Num_S))\n",
    "        else:\n",
    "            avg_num_in_q = (rho ** 2) / (1 - rho) * ((Population_z + 1) - ((Population_z + 1) * ((1 - rho) ** Num_S)) + (Num_S * (rho ** Num_S) * (1 - rho)))\n",
    "        avg_num_in_sys = avg_num_in_q + Population_z\n",
    "\n",
    "        # Calculate average waiting time in queue and time spent in system\n",
    "        avg_time_in_queue = avg_num_in_q / effective_arrival_rate\n",
    "        avg_time_in_sys = avg_num_in_sys / effective_arrival_rate\n",
    "\n",
    "        W = avg_time_in_queue + 1/mu\n",
    "\n",
    "        # Calculate probability of n customers in the system, for n > 0 and n <= K-1 \n",
    "        Pn_list=[]\n",
    "        for n in range(1, System_Capacity):\n",
    "            if n <= Population_z:\n",
    "                Pn = (rho ** n) / math.factorial(n) * p0\n",
    "            else:\n",
    "                Pn = (rho ** n) / (math.factorial(Num_S) * (Population_z ** (n - Population_z))) * p0\n",
    "            Pn_list.append(Pn)\n",
    "        return ('M/M/1/k', lam, mu,rho, p0, Pn_list, avg_num_in_sys,avg_num_in_q, avg_time_in_sys, avg_time_in_queue)\n",
    "    \n",
    "        if p0 is None:\n",
    "            raise ValueError(\"Invalid input parameters\")\n",
    "        \n",
    " #-------------------------M/M/C MODEL----------------------------------------\n",
    "\n",
    "    if System_Capacity < float('inf') and Num_S > 1 and Service_t == 'Exponential' and Arrival_t == 'poisson':\n",
    "        # Calculate utilization\n",
    "        #rho = lam / (mu * Num_S)\n",
    "        rho = lam / (Num_S * mu)\n",
    "\n",
    "        # Calculate effective arrival rate and service rate\n",
    "        if rho == 1:\n",
    "            effective_arrival_rate = lam / Num_S\n",
    "            mu = mu / Num_S\n",
    "        else:\n",
    "            effective_arrival_rate = lam * (1 - rho)\n",
    "\n",
    "        # Calculate probability of zero customers in the system\n",
    "        if rho == 1:\n",
    "            p0 = 0\n",
    "        else:\n",
    "            p0 = 1 / (sum([(Num_S * rho) ** n / comb(Num_S, n) for n in range(Num_S)]) + ((Num_S * rho) ** Num_S / comb(System_Capacity, Num_S)) * (1 / (1 - rho)))\n",
    "\n",
    "        # Calculate average number of customers in the system\n",
    "        if rho == 1:\n",
    "            avg_num_in_q = Population_z ** 2 / (2 * (Population_z - Num_S))\n",
    "        else:\n",
    "            #avg_num_in_q = (rho ** 2) / (1 - rho) * ((Population_z + 1) - ((Population_z + 1) * ((1 - rho) ** (Num_S + 1))) + (Num_S * (rho ** Num_S) * (1 - rho)))\n",
    "            avg_num_in_q = rho**2 / (Num_S*(1-rho/Num_S))\n",
    "\n",
    "\n",
    "        avg_num_in_sys  = Num_S*rho + rho*(rho/Num_S / (1-rho/Num_S))\n",
    "        \n",
    "        # Calculate average waiting time in queue and time spent in system\n",
    "        #avg_time_in_queue = avg_num_in_q / lam\n",
    "        avg_time_in_queue = avg_num_in_q / lam\n",
    "        #avg_time_in_sys = avg_time_in_queue + 1 / mu\n",
    "        avg_time_in_sys = avg_num_in_sys / lam\n",
    "\n",
    "        # Calculate probability of n customers in the system, for n > 0 and n <= K-1 \n",
    "        Pn_list = []\n",
    "        for n in range(1, System_Capacity):\n",
    "            if n <= Population_z:\n",
    "                Pn = (rho ** n) / math.factorial(n) * p0\n",
    "            else:\n",
    "                Pn = (rho ** n) / (math.factorial(Num_S) * (Population_z ** (n - Population_z))) * p0\n",
    "            Pn_list.append(Pn)                                        \n",
    "          \n",
    "        # Calculate probability that the system is full\n",
    "        if rho == 1:\n",
    "            pk = 1 / (Num_S + 1)\n",
    "        else:\n",
    "            pk = ((rho ** Population_z) / math.factorial(Num_S)) * ((Num_S * (1 - rho)) ** (-Population_z))\n",
    "\n",
    "        # Return performance measures as a tuple\n",
    "        return ('M/M/C', lam, mu, p0, pk,Pn_list, avg_num_in_sys, avg_time_in_sys, avg_time_in_queue)\n",
    " #-------------------------M/M/∞MODEL----------------------------------------\n",
    "    if System_Capacity==float('inf') and Num_S>1 and Service_t == 'Exponential'and Arrival_t =='poisson':\n",
    "                                   \n",
    "         # Calculate utilization\n",
    "        rho = lam / mu\n",
    "\n",
    "        # Calculate probability of zero customers in the system\n",
    "        p0 = 1 - rho\n",
    "\n",
    "        # Calculate average number of customers in the system and in queue\n",
    "        avg_num_in_q = 0\n",
    "        avg_num_in_sys = lam/mu\n",
    "\n",
    "        # Calculate average waiting time in queue and time spent in system\n",
    "        avg_time_in_queue = 0\n",
    "        avg_time_in_sys = 1/mu\n",
    "        return ('M/M/∞', lam, mu,rho, p0,  avg_num_in_sys,avg_num_in_q, avg_time_in_sys, avg_time_in_queue)\n",
    "\n"
   ]
  },
  {
   "cell_type": "code",
   "execution_count": 53,
   "id": "d86eae23",
   "metadata": {},
   "outputs": [
    {
     "data": {
      "text/plain": [
       "('M/M/1/k',\n",
       " 3,\n",
       " 4,\n",
       " 0.75,\n",
       " 0.25,\n",
       " [0.1875,\n",
       "  0.0703125,\n",
       "  0.017578125,\n",
       "  0.0032958984375,\n",
       "  0.000494384765625,\n",
       "  6.1798095703125e-05,\n",
       "  6.621224539620536e-06,\n",
       "  6.207398005894252e-07,\n",
       "  5.172831671578544e-08],\n",
       " 28.984375,\n",
       " 18.984375,\n",
       " 38.645833333333336,\n",
       " 25.3125)"
      ]
     },
     "execution_count": 53,
     "metadata": {},
     "output_type": "execute_result"
    }
   ],
   "source": [
    "Model_Type(3, 4, 10 , 1, 10, \"Exponential\", \"poisson\")\n"
   ]
  },
  {
   "cell_type": "code",
   "execution_count": 55,
   "id": "48fc0669",
   "metadata": {},
   "outputs": [
    {
     "data": {
      "text/plain": [
       "('M/M/∞', 10, 5, 2.0, -1.0, 2.0, 0, 0.2, 0)"
      ]
     },
     "execution_count": 55,
     "metadata": {},
     "output_type": "execute_result"
    }
   ],
   "source": [
    "Model_Type(10, 5, float('inf'), 2, 100, \"Exponential\", \"poisson\")"
   ]
  },
  {
   "cell_type": "code",
   "execution_count": 80,
   "id": "1f66fc53",
   "metadata": {},
   "outputs": [
    {
     "data": {
      "text/plain": [
       "('M/M/C',\n",
       " 4,\n",
       " 1.0,\n",
       " 0,\n",
       " 0.3333333333333333,\n",
       " [0.0, 0.0, 0.0, 0.0],\n",
       " 3.0,\n",
       " 0.75,\n",
       " 1.125)"
      ]
     },
     "execution_count": 80,
     "metadata": {},
     "output_type": "execute_result"
    }
   ],
   "source": [
    "Model_Type(4, 2, 5, 2, 3, \"Exponential\", \"poisson\")"
   ]
  },
  {
   "cell_type": "code",
   "execution_count": null,
   "id": "5b552114",
   "metadata": {},
   "outputs": [],
   "source": []
  }
 ],
 "metadata": {
  "kernelspec": {
   "display_name": "Python 3 (ipykernel)",
   "language": "python",
   "name": "python3"
  },
  "language_info": {
   "codemirror_mode": {
    "name": "ipython",
    "version": 3
   },
   "file_extension": ".py",
   "mimetype": "text/x-python",
   "name": "python",
   "nbconvert_exporter": "python",
   "pygments_lexer": "ipython3",
   "version": "3.9.13"
  }
 },
 "nbformat": 4,
 "nbformat_minor": 5
}
